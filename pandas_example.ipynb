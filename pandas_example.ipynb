{
 "cells": [
  {
   "cell_type": "code",
   "execution_count": 1,
   "metadata": {},
   "outputs": [
    {
     "data": {
      "text/html": [
       "<div>\n",
       "<style scoped>\n",
       "    .dataframe tbody tr th:only-of-type {\n",
       "        vertical-align: middle;\n",
       "    }\n",
       "\n",
       "    .dataframe tbody tr th {\n",
       "        vertical-align: top;\n",
       "    }\n",
       "\n",
       "    .dataframe thead th {\n",
       "        text-align: right;\n",
       "    }\n",
       "</style>\n",
       "<table border=\"1\" class=\"dataframe\">\n",
       "  <thead>\n",
       "    <tr style=\"text-align: right;\">\n",
       "      <th></th>\n",
       "      <th>Respondentkey</th>\n",
       "      <th>Gender</th>\n",
       "      <th>Age_groups</th>\n",
       "      <th>Income</th>\n",
       "    </tr>\n",
       "  </thead>\n",
       "  <tbody>\n",
       "    <tr>\n",
       "      <th>0</th>\n",
       "      <td>f34bf917-df05-4107-a4a5-0d8b1af50f1d</td>\n",
       "      <td>Male</td>\n",
       "      <td>18-34</td>\n",
       "      <td>high</td>\n",
       "    </tr>\n",
       "    <tr>\n",
       "      <th>1</th>\n",
       "      <td>e3b5161e-9d48-4d77-9acc-519ca4569a84</td>\n",
       "      <td>Male</td>\n",
       "      <td>18-34</td>\n",
       "      <td>low</td>\n",
       "    </tr>\n",
       "    <tr>\n",
       "      <th>2</th>\n",
       "      <td>2c119816-eb85-4c63-aafb-d03ff72f1a4f</td>\n",
       "      <td>Male</td>\n",
       "      <td>18-34</td>\n",
       "      <td>low</td>\n",
       "    </tr>\n",
       "    <tr>\n",
       "      <th>3</th>\n",
       "      <td>7965f775-f56d-451a-92c2-9c3e0406d923</td>\n",
       "      <td>Male</td>\n",
       "      <td>55+</td>\n",
       "      <td>high</td>\n",
       "    </tr>\n",
       "    <tr>\n",
       "      <th>4</th>\n",
       "      <td>f4add545-0275-474a-b4ea-052fef69c278</td>\n",
       "      <td>Male</td>\n",
       "      <td>18-34</td>\n",
       "      <td>high</td>\n",
       "    </tr>\n",
       "  </tbody>\n",
       "</table>\n",
       "</div>"
      ],
      "text/plain": [
       "                          Respondentkey Gender Age_groups Income\n",
       "0  f34bf917-df05-4107-a4a5-0d8b1af50f1d   Male      18-34   high\n",
       "1  e3b5161e-9d48-4d77-9acc-519ca4569a84   Male      18-34    low\n",
       "2  2c119816-eb85-4c63-aafb-d03ff72f1a4f   Male      18-34    low\n",
       "3  7965f775-f56d-451a-92c2-9c3e0406d923   Male        55+   high\n",
       "4  f4add545-0275-474a-b4ea-052fef69c278   Male      18-34   high"
      ]
     },
     "execution_count": 1,
     "metadata": {},
     "output_type": "execute_result"
    }
   ],
   "source": [
    "import pandas as pd\n",
    "import random\n",
    "import uuid \n",
    "\n",
    "# How many random records?\n",
    "num_records = 1000\n",
    "\n",
    "genders = [\"Male\", \"Female\"]\n",
    "age_groups = [\"18-34\", \"35-54\", \"55+\"]\n",
    "income_levels = [\"low\", \"medium\", \"high\"]\n",
    "\n",
    "data = {\n",
    "    \"Respondentkey\" : [uuid.uuid4() for _ in range(num_records)],\n",
    "    \"Gender\": [random.choice(genders) for _ in range(num_records)],\n",
    "    \"Age_groups\": [random.choice(age_groups) for _ in range(num_records)],\n",
    "    \"Income\": [random.choice(income_levels) for _ in range(num_records)]\n",
    "}\n",
    "\n",
    "data = pd.DataFrame(data)\n",
    "data.head()"
   ]
  },
  {
   "cell_type": "markdown",
   "metadata": {},
   "source": [
    "OR"
   ]
  },
  {
   "cell_type": "code",
   "execution_count": 2,
   "metadata": {},
   "outputs": [],
   "source": [
    "# import pandas as pd\n",
    "# data = pd.read_csv(r'examples\\data-with-pre_weight.csv')\n",
    "# data = pd.read_csv(r'examples\\data_with_weight_by_Dimensions.csv.csv')"
   ]
  },
  {
   "cell_type": "code",
   "execution_count": 3,
   "metadata": {},
   "outputs": [],
   "source": [
    "# Define weighting targets\n",
    "spec = {\n",
    "    \"Gender\": {\"Male\": 0.5, \"Female\": 0.5},\n",
    "    \"Age_groups\": {\"18-34\": 0.4, \"35-54\": 0.4, \"55+\": 0.2},\n",
    "    \"Income\": {\"low\": 0.33, \"medium\": 0.34, \"high\": 0.33}\n",
    "}"
   ]
  },
  {
   "cell_type": "code",
   "execution_count": 4,
   "metadata": {},
   "outputs": [
    {
     "name": "stdout",
     "output_type": "stream",
     "text": [
      "Iteration 1: RMS Error = 7.252160, Efficiency = 89.56%, Max Weight = 1.4150, Min Weight = 0.5329\n",
      "Iteration 2: RMS Error = 0.013888, Efficiency = 89.57%, Max Weight = 1.4136, Min Weight = 0.5333\n",
      "Iteration 3: RMS Error = 0.000023, Efficiency = 89.57%, Max Weight = 1.4137, Min Weight = 0.5333\n",
      "✅ Converged by `RMS error < 0.005` in 3 iterations.\n"
     ]
    }
   ],
   "source": [
    "from rim_weighting.rim_pandas import RIMWeightingPandas\n",
    "\n",
    "# Initialize the RIM Weighting class\n",
    "rim = RIMWeightingPandas(\n",
    "    data=data, \n",
    "    spec=spec,\n",
    "    pre_weight=None,\n",
    "    id='Respondentkey'\n",
    ")\n",
    "\n",
    "# Apply weights\n",
    "weighted_data = rim.apply_weights(\n",
    "    max_iterations=10, \n",
    "    min_weight=0.5,\n",
    "    max_weight=1.5\n",
    ")"
   ]
  },
  {
   "cell_type": "code",
   "execution_count": 5,
   "metadata": {},
   "outputs": [
    {
     "name": "stdout",
     "output_type": "stream",
     "text": [
      "|    | Gender   |   Unweighted Count |   Unweighted % |   Weighted_Count |   Min_Weight |   Max_Weight |   Weighted % |\n",
      "|----|----------|--------------------|----------------|------------------|--------------|--------------|--------------|\n",
      "|  0 | Female   |                505 |        50.5000 |         500.0000 |       0.5416 |       1.4137 |      50.0000 |\n",
      "|  1 | Male     |                495 |        49.5000 |         500.0000 |       0.5333 |       1.3918 |      50.0000 |\n",
      "\n",
      "\n",
      "|    | Age_groups   |   Unweighted Count |   Unweighted % |   Weighted_Count |   Min_Weight |   Max_Weight |   Weighted % |\n",
      "|----|--------------|--------------------|----------------|------------------|--------------|--------------|--------------|\n",
      "|  0 | 18-34        |                300 |        30.0000 |         400.0000 |       1.2808 |       1.4137 |      40.0000 |\n",
      "|  1 | 35-54        |                340 |        34.0000 |         400.0000 |       1.1292 |       1.2463 |      40.0000 |\n",
      "|  2 | 55+          |                360 |        36.0000 |         200.0000 |       0.5333 |       0.5886 |      20.0000 |\n",
      "\n",
      "\n",
      "|    | Income   |   Unweighted Count |   Unweighted % |   Weighted_Count |   Min_Weight |   Max_Weight |   Weighted % |\n",
      "|----|----------|--------------------|----------------|------------------|--------------|--------------|--------------|\n",
      "|  0 | high     |                313 |        31.3000 |         330.0000 |       0.5795 |       1.4137 |      33.0000 |\n",
      "|  1 | low      |                341 |        34.1000 |         330.0000 |       0.5333 |       1.3010 |      33.0000 |\n",
      "|  2 | medium   |                346 |        34.6000 |         340.0000 |       0.5429 |       1.3246 |      34.0000 |\n",
      "\n",
      "\n"
     ]
    }
   ],
   "source": [
    "rim.generate_summary()"
   ]
  },
  {
   "cell_type": "code",
   "execution_count": 6,
   "metadata": {},
   "outputs": [],
   "source": [
    "weighted_data.to_csv('data.csv')"
   ]
  },
  {
   "cell_type": "code",
   "execution_count": 7,
   "metadata": {},
   "outputs": [
    {
     "data": {
      "text/html": [
       "<div>\n",
       "<style scoped>\n",
       "    .dataframe tbody tr th:only-of-type {\n",
       "        vertical-align: middle;\n",
       "    }\n",
       "\n",
       "    .dataframe tbody tr th {\n",
       "        vertical-align: top;\n",
       "    }\n",
       "\n",
       "    .dataframe thead th {\n",
       "        text-align: right;\n",
       "    }\n",
       "</style>\n",
       "<table border=\"1\" class=\"dataframe\">\n",
       "  <thead>\n",
       "    <tr style=\"text-align: right;\">\n",
       "      <th></th>\n",
       "      <th>rim_weight</th>\n",
       "    </tr>\n",
       "    <tr>\n",
       "      <th>Respondentkey</th>\n",
       "      <th></th>\n",
       "    </tr>\n",
       "  </thead>\n",
       "  <tbody>\n",
       "    <tr>\n",
       "      <th>f34bf917-df05-4107-a4a5-0d8b1af50f1d</th>\n",
       "      <td>1.391786</td>\n",
       "    </tr>\n",
       "    <tr>\n",
       "      <th>e3b5161e-9d48-4d77-9acc-519ca4569a84</th>\n",
       "      <td>1.280830</td>\n",
       "    </tr>\n",
       "    <tr>\n",
       "      <th>2c119816-eb85-4c63-aafb-d03ff72f1a4f</th>\n",
       "      <td>1.280830</td>\n",
       "    </tr>\n",
       "    <tr>\n",
       "      <th>7965f775-f56d-451a-92c2-9c3e0406d923</th>\n",
       "      <td>0.579456</td>\n",
       "    </tr>\n",
       "    <tr>\n",
       "      <th>f4add545-0275-474a-b4ea-052fef69c278</th>\n",
       "      <td>1.391786</td>\n",
       "    </tr>\n",
       "    <tr>\n",
       "      <th>...</th>\n",
       "      <td>...</td>\n",
       "    </tr>\n",
       "    <tr>\n",
       "      <th>99fd03ce-e435-4f6d-98cc-c3123e64e668</th>\n",
       "      <td>0.588562</td>\n",
       "    </tr>\n",
       "    <tr>\n",
       "      <th>5c3ce8e3-ae13-4c56-9ba2-e3ea2ff3ce58</th>\n",
       "      <td>1.391786</td>\n",
       "    </tr>\n",
       "    <tr>\n",
       "      <th>7346c81b-0361-47b8-9238-ea526b0bc49b</th>\n",
       "      <td>1.167732</td>\n",
       "    </tr>\n",
       "    <tr>\n",
       "      <th>0b73e28e-7d7f-446c-b0d6-98fc877c80ab</th>\n",
       "      <td>1.300957</td>\n",
       "    </tr>\n",
       "    <tr>\n",
       "      <th>138d3584-d317-4809-8c0b-01af95a4d50a</th>\n",
       "      <td>1.280830</td>\n",
       "    </tr>\n",
       "  </tbody>\n",
       "</table>\n",
       "<p>1000 rows × 1 columns</p>\n",
       "</div>"
      ],
      "text/plain": [
       "                                      rim_weight\n",
       "Respondentkey                                   \n",
       "f34bf917-df05-4107-a4a5-0d8b1af50f1d    1.391786\n",
       "e3b5161e-9d48-4d77-9acc-519ca4569a84    1.280830\n",
       "2c119816-eb85-4c63-aafb-d03ff72f1a4f    1.280830\n",
       "7965f775-f56d-451a-92c2-9c3e0406d923    0.579456\n",
       "f4add545-0275-474a-b4ea-052fef69c278    1.391786\n",
       "...                                          ...\n",
       "99fd03ce-e435-4f6d-98cc-c3123e64e668    0.588562\n",
       "5c3ce8e3-ae13-4c56-9ba2-e3ea2ff3ce58    1.391786\n",
       "7346c81b-0361-47b8-9238-ea526b0bc49b    1.167732\n",
       "0b73e28e-7d7f-446c-b0d6-98fc877c80ab    1.300957\n",
       "138d3584-d317-4809-8c0b-01af95a4d50a    1.280830\n",
       "\n",
       "[1000 rows x 1 columns]"
      ]
     },
     "execution_count": 7,
     "metadata": {},
     "output_type": "execute_result"
    }
   ],
   "source": [
    "rim.get_weighted_factors()"
   ]
  }
 ],
 "metadata": {
  "kernelspec": {
   "display_name": "pyspark_env",
   "language": "python",
   "name": "python3"
  },
  "language_info": {
   "codemirror_mode": {
    "name": "ipython",
    "version": 3
   },
   "file_extension": ".py",
   "mimetype": "text/x-python",
   "name": "python",
   "nbconvert_exporter": "python",
   "pygments_lexer": "ipython3",
   "version": "3.12.4"
  }
 },
 "nbformat": 4,
 "nbformat_minor": 2
}
