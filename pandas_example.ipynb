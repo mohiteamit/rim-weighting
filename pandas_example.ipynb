{
 "cells": [
  {
   "cell_type": "code",
   "execution_count": 25,
   "metadata": {},
   "outputs": [
    {
     "data": {
      "text/html": [
       "<div>\n",
       "<style scoped>\n",
       "    .dataframe tbody tr th:only-of-type {\n",
       "        vertical-align: middle;\n",
       "    }\n",
       "\n",
       "    .dataframe tbody tr th {\n",
       "        vertical-align: top;\n",
       "    }\n",
       "\n",
       "    .dataframe thead th {\n",
       "        text-align: right;\n",
       "    }\n",
       "</style>\n",
       "<table border=\"1\" class=\"dataframe\">\n",
       "  <thead>\n",
       "    <tr style=\"text-align: right;\">\n",
       "      <th></th>\n",
       "      <th>Gender</th>\n",
       "      <th>Age_groups</th>\n",
       "      <th>Income</th>\n",
       "    </tr>\n",
       "  </thead>\n",
       "  <tbody>\n",
       "    <tr>\n",
       "      <th>0</th>\n",
       "      <td>Male</td>\n",
       "      <td>35-54</td>\n",
       "      <td>low</td>\n",
       "    </tr>\n",
       "    <tr>\n",
       "      <th>1</th>\n",
       "      <td>Female</td>\n",
       "      <td>55+</td>\n",
       "      <td>low</td>\n",
       "    </tr>\n",
       "    <tr>\n",
       "      <th>2</th>\n",
       "      <td>Male</td>\n",
       "      <td>18-34</td>\n",
       "      <td>medium</td>\n",
       "    </tr>\n",
       "    <tr>\n",
       "      <th>3</th>\n",
       "      <td>Female</td>\n",
       "      <td>18-34</td>\n",
       "      <td>low</td>\n",
       "    </tr>\n",
       "    <tr>\n",
       "      <th>4</th>\n",
       "      <td>Male</td>\n",
       "      <td>18-34</td>\n",
       "      <td>low</td>\n",
       "    </tr>\n",
       "  </tbody>\n",
       "</table>\n",
       "</div>"
      ],
      "text/plain": [
       "   Gender Age_groups  Income\n",
       "0    Male      35-54     low\n",
       "1  Female        55+     low\n",
       "2    Male      18-34  medium\n",
       "3  Female      18-34     low\n",
       "4    Male      18-34     low"
      ]
     },
     "execution_count": 25,
     "metadata": {},
     "output_type": "execute_result"
    }
   ],
   "source": [
    "import pandas as pd\n",
    "import random\n",
    "\n",
    "# How many random records?\n",
    "num_records = 1000\n",
    "\n",
    "genders = [\"Male\", \"Female\"]\n",
    "age_groups = [\"18-34\", \"35-54\", \"55+\"]\n",
    "income_levels = [\"low\", \"medium\", \"high\"]\n",
    "\n",
    "data = {\n",
    "    \"Gender\": [random.choice(genders) for _ in range(num_records)],\n",
    "    \"Age_groups\": [random.choice(age_groups) for _ in range(num_records)],\n",
    "    \"Income\": [random.choice(income_levels) for _ in range(num_records)]\n",
    "}\n",
    "\n",
    "data = pd.DataFrame(data)\n",
    "data.head()"
   ]
  },
  {
   "cell_type": "markdown",
   "metadata": {},
   "source": [
    "OR"
   ]
  },
  {
   "cell_type": "code",
   "execution_count": 26,
   "metadata": {},
   "outputs": [],
   "source": [
    "# import pandas as pd\n",
    "# data = pd.read_csv(r'examples\\data-with-pre_weight.csv')\n",
    "# data = pd.read_csv(r'examples\\data_with_weight_by_Dimensions.csv.csv')"
   ]
  },
  {
   "cell_type": "code",
   "execution_count": 27,
   "metadata": {},
   "outputs": [],
   "source": [
    "# Define weighting targets\n",
    "spec = {\n",
    "    \"Gender\": {\"Male\": 0.5, \"Female\": 0.5},\n",
    "    \"Age_groups\": {\"18-34\": 0.4, \"35-54\": 0.4, \"55+\": 0.2},\n",
    "    \"Income\": {\"low\": 0.33, \"medium\": 0.34, \"high\": 0.33}\n",
    "}"
   ]
  },
  {
   "cell_type": "code",
   "execution_count": 28,
   "metadata": {},
   "outputs": [
    {
     "name": "stdout",
     "output_type": "stream",
     "text": [
      "Iteration 1: RMS Error = 1.981048, Efficiency = 91.23%, Max Weight = 1.4220, Min Weight = 0.5000\n",
      "Iteration 2: RMS Error = 0.186636, Efficiency = 91.15%, Max Weight = 1.4272, Min Weight = 0.5000\n",
      "Iteration 3: RMS Error = 0.048550, Efficiency = 91.13%, Max Weight = 1.4277, Min Weight = 0.5000\n",
      "Iteration 4: RMS Error = 0.012420, Efficiency = 91.13%, Max Weight = 1.4278, Min Weight = 0.5000\n",
      "Iteration 5: RMS Error = 0.003184, Efficiency = 91.13%, Max Weight = 1.4279, Min Weight = 0.5000\n",
      "Iteration 6: RMS Error = 0.000816, Efficiency = 91.13%, Max Weight = 1.4279, Min Weight = 0.5000\n",
      "✅ Converged by RMS error < 0.001 in 6 iterations.\n"
     ]
    }
   ],
   "source": [
    "from rim_weighting.rim_pandas import RIMWeightingPandas\n",
    "\n",
    "# Initialize the RIM Weighting class\n",
    "rim = RIMWeightingPandas(\n",
    "    data=data, \n",
    "    spec=spec,\n",
    "    pre_weight=None\n",
    ")\n",
    "\n",
    "# Apply weights\n",
    "weighted_data = rim.apply_weights(\n",
    "    max_iterations=10, \n",
    "    min_weight=0.5,\n",
    "    max_weight=1.5\n",
    ")"
   ]
  },
  {
   "cell_type": "code",
   "execution_count": 29,
   "metadata": {},
   "outputs": [
    {
     "name": "stdout",
     "output_type": "stream",
     "text": [
      "|    | Gender   |   Unweighted Count |   Unweighted % |   Weighted_Count |   Min_Weight |   Max_Weight |   Weighted % |\n",
      "|----|----------|--------------------|----------------|------------------|--------------|--------------|--------------|\n",
      "|  0 | Female   |                541 |        54.1000 |         500.0008 |       0.5000 |       1.1997 |      50.0000 |\n",
      "|  1 | Male     |                459 |        45.9000 |         499.9999 |       0.5886 |       1.4279 |      50.0000 |\n",
      "\n",
      "\n",
      "|    | Age_groups   |   Unweighted Count |   Unweighted % |   Weighted_Count |   Min_Weight |   Max_Weight |   Weighted % |\n",
      "|----|--------------|--------------------|----------------|------------------|--------------|--------------|--------------|\n",
      "|  0 | 18-34        |                333 |        33.3000 |         399.9999 |       1.0028 |       1.4073 |      40.0000 |\n",
      "|  1 | 35-54        |                330 |        33.0000 |         400.0001 |       1.0175 |       1.4279 |      40.0000 |\n",
      "|  2 | 55+          |                337 |        33.7000 |         200.0008 |       0.5000 |       0.6940 |      20.0001 |\n",
      "\n",
      "\n",
      "|    | Income   |   Unweighted Count |   Unweighted % |   Weighted_Count |   Min_Weight |   Max_Weight |   Weighted % |\n",
      "|----|----------|--------------------|----------------|------------------|--------------|--------------|--------------|\n",
      "|  0 | high     |                320 |        32.0000 |         330.0000 |       0.5606 |       1.3727 |      33.0000 |\n",
      "|  1 | low      |                361 |        36.1000 |         330.0008 |       0.5000 |       1.2110 |      33.0001 |\n",
      "|  2 | medium   |                319 |        31.9000 |         340.0000 |       0.5831 |       1.4279 |      34.0000 |\n",
      "\n",
      "\n"
     ]
    }
   ],
   "source": [
    "rim.generate_summary()"
   ]
  },
  {
   "cell_type": "code",
   "execution_count": 30,
   "metadata": {},
   "outputs": [],
   "source": [
    "weighted_data.to_csv('data.csv')"
   ]
  }
 ],
 "metadata": {
  "kernelspec": {
   "display_name": "pyspark_env",
   "language": "python",
   "name": "python3"
  },
  "language_info": {
   "codemirror_mode": {
    "name": "ipython",
    "version": 3
   },
   "file_extension": ".py",
   "mimetype": "text/x-python",
   "name": "python",
   "nbconvert_exporter": "python",
   "pygments_lexer": "ipython3",
   "version": "3.12.4"
  }
 },
 "nbformat": 4,
 "nbformat_minor": 2
}
