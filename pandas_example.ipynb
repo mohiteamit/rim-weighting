{
 "cells": [
  {
   "cell_type": "code",
   "execution_count": 9,
   "metadata": {},
   "outputs": [
    {
     "data": {
      "text/html": [
       "<div>\n",
       "<style scoped>\n",
       "    .dataframe tbody tr th:only-of-type {\n",
       "        vertical-align: middle;\n",
       "    }\n",
       "\n",
       "    .dataframe tbody tr th {\n",
       "        vertical-align: top;\n",
       "    }\n",
       "\n",
       "    .dataframe thead th {\n",
       "        text-align: right;\n",
       "    }\n",
       "</style>\n",
       "<table border=\"1\" class=\"dataframe\">\n",
       "  <thead>\n",
       "    <tr style=\"text-align: right;\">\n",
       "      <th></th>\n",
       "      <th>gender</th>\n",
       "      <th>age_group</th>\n",
       "      <th>income</th>\n",
       "    </tr>\n",
       "  </thead>\n",
       "  <tbody>\n",
       "    <tr>\n",
       "      <th>0</th>\n",
       "      <td>Male</td>\n",
       "      <td>55+</td>\n",
       "      <td>High</td>\n",
       "    </tr>\n",
       "    <tr>\n",
       "      <th>1</th>\n",
       "      <td>Female</td>\n",
       "      <td>35-54</td>\n",
       "      <td>High</td>\n",
       "    </tr>\n",
       "    <tr>\n",
       "      <th>2</th>\n",
       "      <td>Female</td>\n",
       "      <td>55+</td>\n",
       "      <td>High</td>\n",
       "    </tr>\n",
       "    <tr>\n",
       "      <th>3</th>\n",
       "      <td>Female</td>\n",
       "      <td>55+</td>\n",
       "      <td>Low</td>\n",
       "    </tr>\n",
       "    <tr>\n",
       "      <th>4</th>\n",
       "      <td>Male</td>\n",
       "      <td>35-54</td>\n",
       "      <td>Medium</td>\n",
       "    </tr>\n",
       "  </tbody>\n",
       "</table>\n",
       "</div>"
      ],
      "text/plain": [
       "   gender age_group  income\n",
       "0    Male       55+    High\n",
       "1  Female     35-54    High\n",
       "2  Female       55+    High\n",
       "3  Female       55+     Low\n",
       "4    Male     35-54  Medium"
      ]
     },
     "execution_count": 9,
     "metadata": {},
     "output_type": "execute_result"
    }
   ],
   "source": [
    "import pandas as pd\n",
    "import random\n",
    "\n",
    "# How many random records?\n",
    "num_records = 1000\n",
    "\n",
    "genders = [\"Male\", \"Female\"]\n",
    "age_groups = [\"18-34\", \"35-54\", \"55+\"]\n",
    "income_levels = [\"Low\", \"Medium\", \"High\"]\n",
    "\n",
    "\n",
    "data = {\n",
    "    \"gender\": [random.choice(genders) for _ in range(num_records)],\n",
    "    \"age_group\": [random.choice(age_groups) for _ in range(num_records)],\n",
    "    \"income\": [random.choice(income_levels) for _ in range(num_records)]\n",
    "}\n",
    "\n",
    "data = pd.DataFrame(data)\n",
    "data.head()"
   ]
  },
  {
   "cell_type": "markdown",
   "metadata": {},
   "source": [
    "OR"
   ]
  },
  {
   "cell_type": "code",
   "execution_count": 10,
   "metadata": {},
   "outputs": [],
   "source": [
    "import pandas as pd\n",
    "data = pd.read_csv(r'examples\\data-with-pre_weight.csv')\n",
    "data['pre_weight'] = 1.0"
   ]
  },
  {
   "cell_type": "code",
   "execution_count": 11,
   "metadata": {},
   "outputs": [],
   "source": [
    "# Define weighting targets\n",
    "spec = {\n",
    "    \"gender\": {\"Male\": 0.5, \"Female\": 0.5},\n",
    "    \"age_group\": {\"18-34\": 0.4, \"35-54\": 0.4, \"55+\": 0.2},\n",
    "    \"income\": {\"Low\": 0.33, \"Medium\": 0.34, \"High\": 0.33}\n",
    "}"
   ]
  },
  {
   "cell_type": "code",
   "execution_count": 12,
   "metadata": {},
   "outputs": [
    {
     "name": "stdout",
     "output_type": "stream",
     "text": [
      "Iteration 1: RMS Error = 630.029688, Efficiency = 92.96%, Max Weight = 1.2624, Min Weight = 0.5682\n",
      "✅ Converged in 1 iterations: All weights within limits.\n"
     ]
    }
   ],
   "source": [
    "from rim_weighting.rim_pandas import RIMWeightingPandas\n",
    "\n",
    "# Initialize the RIM Weighting class\n",
    "rim = RIMWeightingPandas(\n",
    "    data=data, \n",
    "    spec=spec,\n",
    "    pre_weight='pre_weight'\n",
    ")\n",
    "\n",
    "# Apply weights\n",
    "weighted_data = rim.apply_weights(\n",
    "    max_iterations=20, \n",
    "    min_weight=0.2,\n",
    "    max_weight=2.0\n",
    ")"
   ]
  },
  {
   "cell_type": "code",
   "execution_count": 13,
   "metadata": {},
   "outputs": [
    {
     "name": "stdout",
     "output_type": "stream",
     "text": [
      "|    | gender   |   Unweighted Count |   Unweighted % |   Weighted_Count |   Min_Weight |   Max_Weight |   Weighted % |\n",
      "|----|----------|--------------------|----------------|------------------|--------------|--------------|--------------|\n",
      "|  0 | Female   |                493 |        49.3000 |         497.0674 |       0.5843 |       1.2624 |      49.7067 |\n",
      "|  1 | Male     |                507 |        50.7000 |         502.9326 |       0.5682 |       1.2275 |      50.2933 |\n",
      "\n",
      "\n",
      "|    | age_group   |   Unweighted Count |   Unweighted % |   Weighted_Count |   Min_Weight |   Max_Weight |   Weighted % |\n",
      "|----|-------------|--------------------|----------------|------------------|--------------|--------------|--------------|\n",
      "|  0 | 18-34       |                335 |        33.5000 |         398.9557 |       1.1146 |       1.2624 |      39.8956 |\n",
      "|  1 | 35-54       |                337 |        33.7000 |         400.4913 |       1.1057 |       1.2523 |      40.0491 |\n",
      "|  2 | 55+         |                328 |        32.8000 |         200.5531 |       0.5682 |       0.6435 |      20.0553 |\n",
      "\n",
      "\n",
      "|    | income   |   Unweighted Count |   Unweighted % |   Weighted_Count |   Min_Weight |   Max_Weight |   Weighted % |\n",
      "|----|----------|--------------------|----------------|------------------|--------------|--------------|--------------|\n",
      "|  0 | High     |                317 |        31.7000 |         330.0000 |       0.6258 |       1.2624 |      33.0000 |\n",
      "|  1 | Low      |                343 |        34.3000 |         330.0000 |       0.5682 |       1.1462 |      33.0000 |\n",
      "|  2 | Medium   |                340 |        34.0000 |         340.0000 |       0.6120 |       1.2345 |      34.0000 |\n",
      "\n",
      "\n"
     ]
    }
   ],
   "source": [
    "rim.generate_summary()"
   ]
  },
  {
   "cell_type": "code",
   "execution_count": 14,
   "metadata": {},
   "outputs": [],
   "source": [
    "weighted_data.to_csv('data.csv')"
   ]
  }
 ],
 "metadata": {
  "kernelspec": {
   "display_name": "pyspark_env",
   "language": "python",
   "name": "python3"
  },
  "language_info": {
   "codemirror_mode": {
    "name": "ipython",
    "version": 3
   },
   "file_extension": ".py",
   "mimetype": "text/x-python",
   "name": "python",
   "nbconvert_exporter": "python",
   "pygments_lexer": "ipython3",
   "version": "3.12.4"
  }
 },
 "nbformat": 4,
 "nbformat_minor": 2
}
